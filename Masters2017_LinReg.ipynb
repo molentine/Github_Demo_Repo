{
 "cells": [
  {
   "cell_type": "code",
   "execution_count": 298,
   "metadata": {
    "collapsed": false
   },
   "outputs": [
    {
     "data": {
      "text/html": [
       "<div>\n",
       "<table border=\"1\" class=\"dataframe\">\n",
       "  <thead>\n",
       "    <tr style=\"text-align: right;\">\n",
       "      <th></th>\n",
       "      <th>Golfer</th>\n",
       "      <th>SG_Total</th>\n",
       "      <th>Hard_Course</th>\n",
       "      <th>Par 72</th>\n",
       "      <th>Long_Course</th>\n",
       "      <th>Bentgrass</th>\n",
       "      <th>Specialist</th>\n",
       "      <th>Majors</th>\n",
       "      <th>Windy Rds</th>\n",
       "      <th>Score</th>\n",
       "      <th>Total</th>\n",
       "    </tr>\n",
       "  </thead>\n",
       "  <tbody>\n",
       "    <tr>\n",
       "      <th>0</th>\n",
       "      <td>Danny Willett</td>\n",
       "      <td>1.020</td>\n",
       "      <td>-0.132</td>\n",
       "      <td>0.107</td>\n",
       "      <td>-0.039</td>\n",
       "      <td>-0.059</td>\n",
       "      <td>-0.031</td>\n",
       "      <td>-0.411</td>\n",
       "      <td>0.000</td>\n",
       "      <td>24</td>\n",
       "      <td>4.519593</td>\n",
       "    </tr>\n",
       "    <tr>\n",
       "      <th>1</th>\n",
       "      <td>Lee Westwood</td>\n",
       "      <td>0.605</td>\n",
       "      <td>0.202</td>\n",
       "      <td>-0.034</td>\n",
       "      <td>0.039</td>\n",
       "      <td>-0.041</td>\n",
       "      <td>0.041</td>\n",
       "      <td>0.181</td>\n",
       "      <td>-0.169</td>\n",
       "      <td>21</td>\n",
       "      <td>3.518143</td>\n",
       "    </tr>\n",
       "    <tr>\n",
       "      <th>2</th>\n",
       "      <td>Jordan Spieth</td>\n",
       "      <td>1.732</td>\n",
       "      <td>0.617</td>\n",
       "      <td>0.322</td>\n",
       "      <td>0.278</td>\n",
       "      <td>0.033</td>\n",
       "      <td>0.313</td>\n",
       "      <td>1.115</td>\n",
       "      <td>0.401</td>\n",
       "      <td>21</td>\n",
       "      <td>3.358561</td>\n",
       "    </tr>\n",
       "    <tr>\n",
       "      <th>3</th>\n",
       "      <td>Paul Casey</td>\n",
       "      <td>1.036</td>\n",
       "      <td>0.235</td>\n",
       "      <td>-0.202</td>\n",
       "      <td>-0.046</td>\n",
       "      <td>-0.114</td>\n",
       "      <td>-0.032</td>\n",
       "      <td>-0.413</td>\n",
       "      <td>0.373</td>\n",
       "      <td>20</td>\n",
       "      <td>3.178168</td>\n",
       "    </tr>\n",
       "    <tr>\n",
       "      <th>4</th>\n",
       "      <td>Dustin Johnson</td>\n",
       "      <td>1.670</td>\n",
       "      <td>0.302</td>\n",
       "      <td>0.058</td>\n",
       "      <td>-0.153</td>\n",
       "      <td>-0.039</td>\n",
       "      <td>0.042</td>\n",
       "      <td>0.607</td>\n",
       "      <td>0.150</td>\n",
       "      <td>20</td>\n",
       "      <td>3.365135</td>\n",
       "    </tr>\n",
       "  </tbody>\n",
       "</table>\n",
       "</div>"
      ],
      "text/plain": [
       "           Golfer  SG_Total  Hard_Course  Par 72  Long_Course  Bentgrass  \\\n",
       "0   Danny Willett     1.020       -0.132   0.107       -0.039     -0.059   \n",
       "1    Lee Westwood     0.605        0.202  -0.034        0.039     -0.041   \n",
       "2   Jordan Spieth     1.732        0.617   0.322        0.278      0.033   \n",
       "3      Paul Casey     1.036        0.235  -0.202       -0.046     -0.114   \n",
       "4  Dustin Johnson     1.670        0.302   0.058       -0.153     -0.039   \n",
       "\n",
       "   Specialist  Majors  Windy Rds  Score     Total  \n",
       "0      -0.031  -0.411      0.000     24  4.519593  \n",
       "1       0.041   0.181     -0.169     21  3.518143  \n",
       "2       0.313   1.115      0.401     21  3.358561  \n",
       "3      -0.032  -0.413      0.373     20  3.178168  \n",
       "4       0.042   0.607      0.150     20  3.365135  "
      ]
     },
     "execution_count": 298,
     "metadata": {},
     "output_type": "execute_result"
    }
   ],
   "source": [
    "import pandas as pd\n",
    "import numpy as np\n",
    "import seaborn as sb\n",
    "\n",
    "data = pd.read_csv(\"Masters 2016 - Sheet4.csv\")\n",
    "del data['DK']\n",
    "del data['Earnings']         \n",
    "data.head()"
   ]
  },
  {
   "cell_type": "code",
   "execution_count": 299,
   "metadata": {
    "collapsed": false
   },
   "outputs": [],
   "source": [
    "data.columns = ['Golfer', 'SG_Total', 'Hard_Course', 'Par_72', 'Long_Course','Bentgrass', 'Specialist', 'Majors', 'Windy_Rds', 'To_Par', 'Score']"
   ]
  },
  {
   "cell_type": "code",
   "execution_count": 300,
   "metadata": {
    "collapsed": true
   },
   "outputs": [],
   "source": [
    "data['MC'] = data['Score'].apply(lambda x: 1 if x > 0 else 0)"
   ]
  },
  {
   "cell_type": "code",
   "execution_count": 301,
   "metadata": {
    "collapsed": false
   },
   "outputs": [
    {
     "data": {
      "text/plain": [
       "0    1\n",
       "1    1\n",
       "2    1\n",
       "3    1\n",
       "4    1\n",
       "Name: MC, dtype: int64"
      ]
     },
     "execution_count": 301,
     "metadata": {},
     "output_type": "execute_result"
    }
   ],
   "source": [
    "data.MC.head()"
   ]
  },
  {
   "cell_type": "code",
   "execution_count": 302,
   "metadata": {
    "collapsed": false
   },
   "outputs": [
    {
     "data": {
      "image/png": "[encoded data removed]",
      "text/plain": [
       "<matplotlib.figure.Figure at 0x11c3370d0>"
      ]
     },
     "metadata": {},
     "output_type": "display_data"
    }
   ],
   "source": [
    "from matplotlib import pyplot as plt\n",
    "%matplotlib inline\n",
    "f = data.Score.hist(bins=30)"
   ]
  },
  {
   "cell_type": "code",
   "execution_count": 303,
   "metadata": {
    "collapsed": false
   },
   "outputs": [
    {
     "data": {
      "image/png": "[encoded data removed]",
      "text/plain": [
       "<matplotlib.figure.Figure at 0x11c591f10>"
      ]
     },
     "metadata": {},
     "output_type": "display_data"
    }
   ],
   "source": [
    "\n",
    "fig, axes = plt.subplots(ncols=2,sharey=True)  #Force both subplots to use the same y axis\n",
    "f = data.plot(kind='scatter', x='SG_Total', y='Score', ax=axes[0], title=\"Years since degree\", figsize=(12,3))\n",
    "f = data.plot(kind='scatter', x='Specialist', y='Score', ax=axes[1], title=\"Years in current rank\")"
   ]
  },
  {
   "cell_type": "code",
   "execution_count": 304,
   "metadata": {
    "collapsed": false
   },
   "outputs": [
    {
     "data": {
      "text/html": [
       "<div>\n",
       "<table border=\"1\" class=\"dataframe\">\n",
       "  <thead>\n",
       "    <tr style=\"text-align: right;\">\n",
       "      <th></th>\n",
       "      <th>SG_Total</th>\n",
       "      <th>Hard_Course</th>\n",
       "      <th>Par_72</th>\n",
       "      <th>Long_Course</th>\n",
       "      <th>Bentgrass</th>\n",
       "      <th>Specialist</th>\n",
       "      <th>Majors</th>\n",
       "      <th>Windy_Rds</th>\n",
       "      <th>To_Par</th>\n",
       "      <th>Score</th>\n",
       "      <th>MC</th>\n",
       "    </tr>\n",
       "  </thead>\n",
       "  <tbody>\n",
       "    <tr>\n",
       "      <th>SG_Total</th>\n",
       "      <td>1.000000</td>\n",
       "      <td>0.102683</td>\n",
       "      <td>0.149516</td>\n",
       "      <td>0.156772</td>\n",
       "      <td>-0.183426</td>\n",
       "      <td>0.108239</td>\n",
       "      <td>0.130551</td>\n",
       "      <td>0.158486</td>\n",
       "      <td>0.439779</td>\n",
       "      <td>0.490702</td>\n",
       "      <td>0.387833</td>\n",
       "    </tr>\n",
       "    <tr>\n",
       "      <th>Hard_Course</th>\n",
       "      <td>0.102683</td>\n",
       "      <td>1.000000</td>\n",
       "      <td>0.089565</td>\n",
       "      <td>0.188964</td>\n",
       "      <td>-0.124672</td>\n",
       "      <td>0.579049</td>\n",
       "      <td>0.233154</td>\n",
       "      <td>0.348629</td>\n",
       "      <td>0.118916</td>\n",
       "      <td>0.117956</td>\n",
       "      <td>0.079252</td>\n",
       "    </tr>\n",
       "    <tr>\n",
       "      <th>Par_72</th>\n",
       "      <td>0.149516</td>\n",
       "      <td>0.089565</td>\n",
       "      <td>1.000000</td>\n",
       "      <td>0.294832</td>\n",
       "      <td>0.046219</td>\n",
       "      <td>0.552896</td>\n",
       "      <td>-0.069397</td>\n",
       "      <td>0.122844</td>\n",
       "      <td>0.137490</td>\n",
       "      <td>0.116280</td>\n",
       "      <td>0.242618</td>\n",
       "    </tr>\n",
       "    <tr>\n",
       "      <th>Long_Course</th>\n",
       "      <td>0.156772</td>\n",
       "      <td>0.188964</td>\n",
       "      <td>0.294832</td>\n",
       "      <td>1.000000</td>\n",
       "      <td>0.072332</td>\n",
       "      <td>0.727178</td>\n",
       "      <td>0.295134</td>\n",
       "      <td>0.081728</td>\n",
       "      <td>0.230614</td>\n",
       "      <td>0.241151</td>\n",
       "      <td>0.199647</td>\n",
       "    </tr>\n",
       "    <tr>\n",
       "      <th>Bentgrass</th>\n",
       "      <td>-0.183426</td>\n",
       "      <td>-0.124672</td>\n",
       "      <td>0.046219</td>\n",
       "      <td>0.072332</td>\n",
       "      <td>1.000000</td>\n",
       "      <td>0.387729</td>\n",
       "      <td>0.320176</td>\n",
       "      <td>-0.188958</td>\n",
       "      <td>-0.087021</td>\n",
       "      <td>-0.107569</td>\n",
       "      <td>-0.099611</td>\n",
       "    </tr>\n",
       "    <tr>\n",
       "      <th>Specialist</th>\n",
       "      <td>0.108239</td>\n",
       "      <td>0.579049</td>\n",
       "      <td>0.552896</td>\n",
       "      <td>0.727178</td>\n",
       "      <td>0.387729</td>\n",
       "      <td>1.000000</td>\n",
       "      <td>0.369717</td>\n",
       "      <td>0.182911</td>\n",
       "      <td>0.187756</td>\n",
       "      <td>0.177026</td>\n",
       "      <td>0.182957</td>\n",
       "    </tr>\n",
       "    <tr>\n",
       "      <th>Majors</th>\n",
       "      <td>0.130551</td>\n",
       "      <td>0.233154</td>\n",
       "      <td>-0.069397</td>\n",
       "      <td>0.295134</td>\n",
       "      <td>0.320176</td>\n",
       "      <td>0.369717</td>\n",
       "      <td>1.000000</td>\n",
       "      <td>-0.024092</td>\n",
       "      <td>0.075784</td>\n",
       "      <td>0.087090</td>\n",
       "      <td>-0.058994</td>\n",
       "    </tr>\n",
       "    <tr>\n",
       "      <th>Windy_Rds</th>\n",
       "      <td>0.158486</td>\n",
       "      <td>0.348629</td>\n",
       "      <td>0.122844</td>\n",
       "      <td>0.081728</td>\n",
       "      <td>-0.188958</td>\n",
       "      <td>0.182911</td>\n",
       "      <td>-0.024092</td>\n",
       "      <td>1.000000</td>\n",
       "      <td>0.045036</td>\n",
       "      <td>0.109281</td>\n",
       "      <td>0.105241</td>\n",
       "    </tr>\n",
       "    <tr>\n",
       "      <th>To_Par</th>\n",
       "      <td>0.439779</td>\n",
       "      <td>0.118916</td>\n",
       "      <td>0.137490</td>\n",
       "      <td>0.230614</td>\n",
       "      <td>-0.087021</td>\n",
       "      <td>0.187756</td>\n",
       "      <td>0.075784</td>\n",
       "      <td>0.045036</td>\n",
       "      <td>1.000000</td>\n",
       "      <td>0.926392</td>\n",
       "      <td>0.870363</td>\n",
       "    </tr>\n",
       "    <tr>\n",
       "      <th>Score</th>\n",
       "      <td>0.490702</td>\n",
       "      <td>0.117956</td>\n",
       "      <td>0.116280</td>\n",
       "      <td>0.241151</td>\n",
       "      <td>-0.107569</td>\n",
       "      <td>0.177026</td>\n",
       "      <td>0.087090</td>\n",
       "      <td>0.109281</td>\n",
       "      <td>0.926392</td>\n",
       "      <td>1.000000</td>\n",
       "      <td>0.826297</td>\n",
       "    </tr>\n",
       "    <tr>\n",
       "      <th>MC</th>\n",
       "      <td>0.387833</td>\n",
       "      <td>0.079252</td>\n",
       "      <td>0.242618</td>\n",
       "      <td>0.199647</td>\n",
       "      <td>-0.099611</td>\n",
       "      <td>0.182957</td>\n",
       "      <td>-0.058994</td>\n",
       "      <td>0.105241</td>\n",
       "      <td>0.870363</td>\n",
       "      <td>0.826297</td>\n",
       "      <td>1.000000</td>\n",
       "    </tr>\n",
       "  </tbody>\n",
       "</table>\n",
       "</div>"
      ],
      "text/plain": [
       "             SG_Total  Hard_Course    Par_72  Long_Course  Bentgrass  \\\n",
       "SG_Total     1.000000     0.102683  0.149516     0.156772  -0.183426   \n",
       "Hard_Course  0.102683     1.000000  0.089565     0.188964  -0.124672   \n",
       "Par_72       0.149516     0.089565  1.000000     0.294832   0.046219   \n",
       "Long_Course  0.156772     0.188964  0.294832     1.000000   0.072332   \n",
       "Bentgrass   -0.183426    -0.124672  0.046219     0.072332   1.000000   \n",
       "Specialist   0.108239     0.579049  0.552896     0.727178   0.387729   \n",
       "Majors       0.130551     0.233154 -0.069397     0.295134   0.320176   \n",
       "Windy_Rds    0.158486     0.348629  0.122844     0.081728  -0.188958   \n",
       "To_Par       0.439779     0.118916  0.137490     0.230614  -0.087021   \n",
       "Score        0.490702     0.117956  0.116280     0.241151  -0.107569   \n",
       "MC           0.387833     0.079252  0.242618     0.199647  -0.099611   \n",
       "\n",
       "             Specialist    Majors  Windy_Rds    To_Par     Score        MC  \n",
       "SG_Total       0.108239  0.130551   0.158486  0.439779  0.490702  0.387833  \n",
       "Hard_Course    0.579049  0.233154   0.348629  0.118916  0.117956  0.079252  \n",
       "Par_72         0.552896 -0.069397   0.122844  0.137490  0.116280  0.242618  \n",
       "Long_Course    0.727178  0.295134   0.081728  0.230614  0.241151  0.199647  \n",
       "Bentgrass      0.387729  0.320176  -0.188958 -0.087021 -0.107569 -0.099611  \n",
       "Specialist     1.000000  0.369717   0.182911  0.187756  0.177026  0.182957  \n",
       "Majors         0.369717  1.000000  -0.024092  0.075784  0.087090 -0.058994  \n",
       "Windy_Rds      0.182911 -0.024092   1.000000  0.045036  0.109281  0.105241  \n",
       "To_Par         0.187756  0.075784   0.045036  1.000000  0.926392  0.870363  \n",
       "Score          0.177026  0.087090   0.109281  0.926392  1.000000  0.826297  \n",
       "MC             0.182957 -0.058994   0.105241  0.870363  0.826297  1.000000  "
      ]
     },
     "execution_count": 304,
     "metadata": {},
     "output_type": "execute_result"
    }
   ],
   "source": [
    "data.corr()"
   ]
  },
  {
   "cell_type": "code",
   "execution_count": 305,
   "metadata": {
    "collapsed": false
   },
   "outputs": [
    {
     "data": {
      "text/html": [
       "<table class=\"simpletable\">\n",
       "<caption>OLS Regression Results</caption>\n",
       "<tr>\n",
       "  <th>Dep. Variable:</th>          <td>Score</td>      <th>  R-squared:         </th> <td>   0.268</td>\n",
       "</tr>\n",
       "<tr>\n",
       "  <th>Model:</th>                   <td>OLS</td>       <th>  Adj. R-squared:    </th> <td>   0.251</td>\n",
       "</tr>\n",
       "<tr>\n",
       "  <th>Method:</th>             <td>Least Squares</td>  <th>  F-statistic:       </th> <td>   15.23</td>\n",
       "</tr>\n",
       "<tr>\n",
       "  <th>Date:</th>             <td>Wed, 05 Apr 2017</td> <th>  Prob (F-statistic):</th> <td>2.33e-06</td>\n",
       "</tr>\n",
       "<tr>\n",
       "  <th>Time:</th>                 <td>22:33:56</td>     <th>  Log-Likelihood:    </th> <td> -161.93</td>\n",
       "</tr>\n",
       "<tr>\n",
       "  <th>No. Observations:</th>      <td>    86</td>      <th>  AIC:               </th> <td>   329.9</td>\n",
       "</tr>\n",
       "<tr>\n",
       "  <th>Df Residuals:</th>          <td>    83</td>      <th>  BIC:               </th> <td>   337.2</td>\n",
       "</tr>\n",
       "<tr>\n",
       "  <th>Df Model:</th>              <td>     2</td>      <th>                     </th>     <td> </td>   \n",
       "</tr>\n",
       "<tr>\n",
       "  <th>Covariance Type:</th>      <td>nonrobust</td>    <th>                     </th>     <td> </td>   \n",
       "</tr>\n",
       "</table>\n",
       "<table class=\"simpletable\">\n",
       "<tr>\n",
       "       <td></td>          <th>coef</th>     <th>std err</th>      <th>t</th>      <th>P>|t|</th> <th>[95.0% Conf. Int.]</th> \n",
       "</tr>\n",
       "<tr>\n",
       "  <th>Intercept</th>   <td>   -0.3699</td> <td>    0.206</td> <td>   -1.795</td> <td> 0.076</td> <td>   -0.780     0.040</td>\n",
       "</tr>\n",
       "<tr>\n",
       "  <th>SG_Total</th>    <td>    1.0806</td> <td>    0.221</td> <td>    4.884</td> <td> 0.000</td> <td>    0.641     1.521</td>\n",
       "</tr>\n",
       "<tr>\n",
       "  <th>Long_Course</th> <td>    1.0606</td> <td>    0.599</td> <td>    1.771</td> <td> 0.080</td> <td>   -0.130     2.252</td>\n",
       "</tr>\n",
       "</table>\n",
       "<table class=\"simpletable\">\n",
       "<tr>\n",
       "  <th>Omnibus:</th>       <td> 1.111</td> <th>  Durbin-Watson:     </th> <td>   0.607</td>\n",
       "</tr>\n",
       "<tr>\n",
       "  <th>Prob(Omnibus):</th> <td> 0.574</td> <th>  Jarque-Bera (JB):  </th> <td>   1.183</td>\n",
       "</tr>\n",
       "<tr>\n",
       "  <th>Skew:</th>          <td> 0.208</td> <th>  Prob(JB):          </th> <td>   0.554</td>\n",
       "</tr>\n",
       "<tr>\n",
       "  <th>Kurtosis:</th>      <td> 2.603</td> <th>  Cond. No.          </th> <td>    4.08</td>\n",
       "</tr>\n",
       "</table>"
      ],
      "text/plain": [
       "<class 'statsmodels.iolib.summary.Summary'>\n",
       "\"\"\"\n",
       "                            OLS Regression Results                            \n",
       "==============================================================================\n",
       "Dep. Variable:                  Score   R-squared:                       0.268\n",
       "Model:                            OLS   Adj. R-squared:                  0.251\n",
       "Method:                 Least Squares   F-statistic:                     15.23\n",
       "Date:                Wed, 05 Apr 2017   Prob (F-statistic):           2.33e-06\n",
       "Time:                        22:33:56   Log-Likelihood:                -161.93\n",
       "No. Observations:                  86   AIC:                             329.9\n",
       "Df Residuals:                      83   BIC:                             337.2\n",
       "Df Model:                           2                                         \n",
       "Covariance Type:            nonrobust                                         \n",
       "===============================================================================\n",
       "                  coef    std err          t      P>|t|      [95.0% Conf. Int.]\n",
       "-------------------------------------------------------------------------------\n",
       "Intercept      -0.3699      0.206     -1.795      0.076        -0.780     0.040\n",
       "SG_Total        1.0806      0.221      4.884      0.000         0.641     1.521\n",
       "Long_Course     1.0606      0.599      1.771      0.080        -0.130     2.252\n",
       "==============================================================================\n",
       "Omnibus:                        1.111   Durbin-Watson:                   0.607\n",
       "Prob(Omnibus):                  0.574   Jarque-Bera (JB):                1.183\n",
       "Skew:                           0.208   Prob(JB):                        0.554\n",
       "Kurtosis:                       2.603   Cond. No.                         4.08\n",
       "==============================================================================\n",
       "\n",
       "Warnings:\n",
       "[1] Standard Errors assume that the covariance matrix of the errors is correctly specified.\n",
       "\"\"\""
      ]
     },
     "execution_count": 305,
     "metadata": {},
     "output_type": "execute_result"
    }
   ],
   "source": [
    "import statsmodels.formula.api as sm\n",
    "model = sm.ols(formula=\"Score ~ SG_Total + Long_Course\", data=data).fit()\n",
    "model.summary()"
   ]
  },
  {
   "cell_type": "code",
   "execution_count": null,
   "metadata": {
    "collapsed": true
   },
   "outputs": [],
   "source": []
  },
  {
   "cell_type": "code",
   "execution_count": 306,
   "metadata": {
    "collapsed": true
   },
   "outputs": [],
   "source": [
    "from sklearn.linear_model import LinearRegression\n",
    "model = LinearRegression()"
   ]
  },
  {
   "cell_type": "code",
   "execution_count": 307,
   "metadata": {
    "collapsed": true
   },
   "outputs": [],
   "source": [
    "X = data[['Long_Course', 'SG_Total']]\n",
    "y = data['Score']\n"
   ]
  },
  {
   "cell_type": "code",
   "execution_count": 308,
   "metadata": {
    "collapsed": false
   },
   "outputs": [
    {
     "name": "stdout",
     "output_type": "stream",
     "text": [
      "0.268437300584\n"
     ]
    }
   ],
   "source": [
    "model.fit(X,y)\n",
    "print model.score(X,y)"
   ]
  },
  {
   "cell_type": "code",
   "execution_count": 309,
   "metadata": {
    "collapsed": false
   },
   "outputs": [
    {
     "data": {
      "text/plain": [
       "-0.36989816418018379"
      ]
     },
     "execution_count": 309,
     "metadata": {},
     "output_type": "execute_result"
    }
   ],
   "source": [
    "model.intercept_"
   ]
  },
  {
   "cell_type": "code",
   "execution_count": 310,
   "metadata": {
    "collapsed": false
   },
   "outputs": [
    {
     "data": {
      "text/plain": [
       "array([ 1.06063812,  1.08057203])"
      ]
     },
     "execution_count": 310,
     "metadata": {},
     "output_type": "execute_result"
    }
   ],
   "source": [
    "model.coef_"
   ]
  },
  {
   "cell_type": "code",
   "execution_count": 311,
   "metadata": {
    "collapsed": false
   },
   "outputs": [
    {
     "data": {
      "text/plain": [
       "LinearRegression(copy_X=True, fit_intercept=True, n_jobs=1, normalize=False)"
      ]
     },
     "execution_count": 311,
     "metadata": {},
     "output_type": "execute_result"
    }
   ],
   "source": [
    "from sklearn.cross_validation import train_test_split\n",
    "X_train, X_test, y_train, y_test = train_test_split(X, y, train_size=.7)\n",
    "\n",
    "model.fit(X_train,y_train) "
   ]
  },
  {
   "cell_type": "code",
   "execution_count": 312,
   "metadata": {
    "collapsed": false
   },
   "outputs": [
    {
     "name": "stdout",
     "output_type": "stream",
     "text": [
      "0.245196721861\n",
      "0.338711578161\n"
     ]
    }
   ],
   "source": [
    "print model.score(X_train,y_train) #Print how high the R^2 is on the training data\n",
    "print model.score(X_test,y_test)   #Print how high the R^2 is on the test data"
   ]
  },
  {
   "cell_type": "code",
   "execution_count": 313,
   "metadata": {
    "collapsed": true
   },
   "outputs": [],
   "source": [
    "\n",
    "# Create our X matrix of observations, and y vector of responses\n",
    "X = data[ ['SG_Total','Specialist'] ]\n",
    "y = data[ 'Score' ]"
   ]
  },
  {
   "cell_type": "code",
   "execution_count": 314,
   "metadata": {
    "collapsed": false
   },
   "outputs": [
    {
     "data": {
      "text/plain": [
       "LinearRegression(copy_X=True, fit_intercept=True, n_jobs=1, normalize=False)"
      ]
     },
     "execution_count": 314,
     "metadata": {},
     "output_type": "execute_result"
    }
   ],
   "source": [
    "model = LinearRegression()\n",
    "model.fit(X,y)"
   ]
  },
  {
   "cell_type": "code",
   "execution_count": 315,
   "metadata": {
    "collapsed": false
   },
   "outputs": [
    {
     "data": {
      "text/html": [
       "<div>\n",
       "<table border=\"1\" class=\"dataframe\">\n",
       "  <thead>\n",
       "    <tr style=\"text-align: right;\">\n",
       "      <th></th>\n",
       "      <th>Golfer</th>\n",
       "      <th>Score</th>\n",
       "      <th>Pred_Score</th>\n",
       "    </tr>\n",
       "  </thead>\n",
       "  <tbody>\n",
       "    <tr>\n",
       "      <th>0</th>\n",
       "      <td>Danny Willett</td>\n",
       "      <td>4.519593</td>\n",
       "      <td>0.664726</td>\n",
       "    </tr>\n",
       "    <tr>\n",
       "      <th>1</th>\n",
       "      <td>Lee Westwood</td>\n",
       "      <td>3.518143</td>\n",
       "      <td>0.318234</td>\n",
       "    </tr>\n",
       "    <tr>\n",
       "      <th>2</th>\n",
       "      <td>Jordan Spieth</td>\n",
       "      <td>3.358561</td>\n",
       "      <td>2.001587</td>\n",
       "    </tr>\n",
       "    <tr>\n",
       "      <th>3</th>\n",
       "      <td>Paul Casey</td>\n",
       "      <td>3.178168</td>\n",
       "      <td>0.680904</td>\n",
       "    </tr>\n",
       "    <tr>\n",
       "      <th>4</th>\n",
       "      <td>Dustin Johnson</td>\n",
       "      <td>3.365135</td>\n",
       "      <td>1.502414</td>\n",
       "    </tr>\n",
       "    <tr>\n",
       "      <th>5</th>\n",
       "      <td>J.B. Holmes</td>\n",
       "      <td>3.370230</td>\n",
       "      <td>0.585760</td>\n",
       "    </tr>\n",
       "    <tr>\n",
       "      <th>6</th>\n",
       "      <td>Hideki Matsuyama</td>\n",
       "      <td>2.921487</td>\n",
       "      <td>0.727293</td>\n",
       "    </tr>\n",
       "    <tr>\n",
       "      <th>7</th>\n",
       "      <td>Matthew Fitzpatrick</td>\n",
       "      <td>2.954040</td>\n",
       "      <td>0.094340</td>\n",
       "    </tr>\n",
       "    <tr>\n",
       "      <th>8</th>\n",
       "      <td>Soren Kjeldsen</td>\n",
       "      <td>2.877187</td>\n",
       "      <td>-0.640755</td>\n",
       "    </tr>\n",
       "    <tr>\n",
       "      <th>9</th>\n",
       "      <td>Jason Day</td>\n",
       "      <td>2.587812</td>\n",
       "      <td>1.371667</td>\n",
       "    </tr>\n",
       "    <tr>\n",
       "      <th>10</th>\n",
       "      <td>Brandt Snedeker</td>\n",
       "      <td>2.664028</td>\n",
       "      <td>0.629263</td>\n",
       "    </tr>\n",
       "    <tr>\n",
       "      <th>11</th>\n",
       "      <td>Justin Rose</td>\n",
       "      <td>2.472178</td>\n",
       "      <td>1.606962</td>\n",
       "    </tr>\n",
       "    <tr>\n",
       "      <th>12</th>\n",
       "      <td>Rory McIlroy</td>\n",
       "      <td>2.740243</td>\n",
       "      <td>2.303161</td>\n",
       "    </tr>\n",
       "    <tr>\n",
       "      <th>13</th>\n",
       "      <td>Daniel Berger</td>\n",
       "      <td>2.773788</td>\n",
       "      <td>0.676006</td>\n",
       "    </tr>\n",
       "    <tr>\n",
       "      <th>14</th>\n",
       "      <td>Kiradech Aphibarnrat</td>\n",
       "      <td>2.160290</td>\n",
       "      <td>-0.904649</td>\n",
       "    </tr>\n",
       "    <tr>\n",
       "      <th>15</th>\n",
       "      <td>Louis Oosthuizen</td>\n",
       "      <td>1.876161</td>\n",
       "      <td>0.492648</td>\n",
       "    </tr>\n",
       "    <tr>\n",
       "      <th>16</th>\n",
       "      <td>Danny Lee</td>\n",
       "      <td>1.683310</td>\n",
       "      <td>-0.089704</td>\n",
       "    </tr>\n",
       "    <tr>\n",
       "      <th>17</th>\n",
       "      <td>Billy Horschel</td>\n",
       "      <td>1.519910</td>\n",
       "      <td>0.264578</td>\n",
       "    </tr>\n",
       "    <tr>\n",
       "      <th>18</th>\n",
       "      <td>Emiliano Grillo</td>\n",
       "      <td>1.629457</td>\n",
       "      <td>0.247323</td>\n",
       "    </tr>\n",
       "    <tr>\n",
       "      <th>19</th>\n",
       "      <td>Rafael Cabrera-Bello</td>\n",
       "      <td>1.837796</td>\n",
       "      <td>0.483712</td>\n",
       "    </tr>\n",
       "    <tr>\n",
       "      <th>20</th>\n",
       "      <td>Jamie Donaldson</td>\n",
       "      <td>1.514877</td>\n",
       "      <td>0.064268</td>\n",
       "    </tr>\n",
       "    <tr>\n",
       "      <th>21</th>\n",
       "      <td>Bryson DeChambeau</td>\n",
       "      <td>1.492514</td>\n",
       "      <td>-0.267655</td>\n",
       "    </tr>\n",
       "    <tr>\n",
       "      <th>22</th>\n",
       "      <td>Brooks Koepka</td>\n",
       "      <td>1.503695</td>\n",
       "      <td>0.911275</td>\n",
       "    </tr>\n",
       "    <tr>\n",
       "      <th>23</th>\n",
       "      <td>Bill Haas</td>\n",
       "      <td>1.093805</td>\n",
       "      <td>0.517374</td>\n",
       "    </tr>\n",
       "    <tr>\n",
       "      <th>24</th>\n",
       "      <td>Bernhard Langer</td>\n",
       "      <td>0.880159</td>\n",
       "      <td>-0.263214</td>\n",
       "    </tr>\n",
       "    <tr>\n",
       "      <th>25</th>\n",
       "      <td>Henrik Stenson</td>\n",
       "      <td>1.163934</td>\n",
       "      <td>1.416169</td>\n",
       "    </tr>\n",
       "    <tr>\n",
       "      <th>26</th>\n",
       "      <td>Matt Kuchar</td>\n",
       "      <td>1.104774</td>\n",
       "      <td>1.152546</td>\n",
       "    </tr>\n",
       "    <tr>\n",
       "      <th>27</th>\n",
       "      <td>Angel Cabrera</td>\n",
       "      <td>1.044197</td>\n",
       "      <td>-0.492476</td>\n",
       "    </tr>\n",
       "    <tr>\n",
       "      <th>28</th>\n",
       "      <td>Webb Simpson</td>\n",
       "      <td>0.957074</td>\n",
       "      <td>-0.140789</td>\n",
       "    </tr>\n",
       "    <tr>\n",
       "      <th>29</th>\n",
       "      <td>Scott Piercy</td>\n",
       "      <td>0.802375</td>\n",
       "      <td>-0.194792</td>\n",
       "    </tr>\n",
       "    <tr>\n",
       "      <th>...</th>\n",
       "      <td>...</td>\n",
       "      <td>...</td>\n",
       "      <td>...</td>\n",
       "    </tr>\n",
       "    <tr>\n",
       "      <th>56</th>\n",
       "      <td>Thongchai Jaidee</td>\n",
       "      <td>-3.072935</td>\n",
       "      <td>-1.049277</td>\n",
       "    </tr>\n",
       "    <tr>\n",
       "      <th>57</th>\n",
       "      <td>Fabian Gomez</td>\n",
       "      <td>-2.544438</td>\n",
       "      <td>-1.421538</td>\n",
       "    </tr>\n",
       "    <tr>\n",
       "      <th>58</th>\n",
       "      <td>Jason Dufner</td>\n",
       "      <td>-1.225376</td>\n",
       "      <td>-0.473583</td>\n",
       "    </tr>\n",
       "    <tr>\n",
       "      <th>59</th>\n",
       "      <td>Trevor Immelman</td>\n",
       "      <td>-0.475298</td>\n",
       "      <td>-1.515267</td>\n",
       "    </tr>\n",
       "    <tr>\n",
       "      <th>60</th>\n",
       "      <td>Robert Streb</td>\n",
       "      <td>-1.958124</td>\n",
       "      <td>0.027588</td>\n",
       "    </tr>\n",
       "    <tr>\n",
       "      <th>61</th>\n",
       "      <td>Graeme McDowell</td>\n",
       "      <td>-1.466834</td>\n",
       "      <td>0.211151</td>\n",
       "    </tr>\n",
       "    <tr>\n",
       "      <th>62</th>\n",
       "      <td>Branden Grace</td>\n",
       "      <td>-0.940884</td>\n",
       "      <td>-0.056990</td>\n",
       "    </tr>\n",
       "    <tr>\n",
       "      <th>63</th>\n",
       "      <td>Chris Kirk</td>\n",
       "      <td>-1.225376</td>\n",
       "      <td>0.013765</td>\n",
       "    </tr>\n",
       "    <tr>\n",
       "      <th>64</th>\n",
       "      <td>Russell Knox</td>\n",
       "      <td>-0.699426</td>\n",
       "      <td>0.350865</td>\n",
       "    </tr>\n",
       "    <tr>\n",
       "      <th>65</th>\n",
       "      <td>Zach Johnson</td>\n",
       "      <td>-1.121977</td>\n",
       "      <td>0.574615</td>\n",
       "    </tr>\n",
       "    <tr>\n",
       "      <th>66</th>\n",
       "      <td>Vijay Singh</td>\n",
       "      <td>-0.983918</td>\n",
       "      <td>-0.376055</td>\n",
       "    </tr>\n",
       "    <tr>\n",
       "      <th>67</th>\n",
       "      <td>Mike Weir</td>\n",
       "      <td>-1.570233</td>\n",
       "      <td>-2.579584</td>\n",
       "    </tr>\n",
       "    <tr>\n",
       "      <th>68</th>\n",
       "      <td>Ryan Moore</td>\n",
       "      <td>-1.673632</td>\n",
       "      <td>0.435048</td>\n",
       "    </tr>\n",
       "    <tr>\n",
       "      <th>69</th>\n",
       "      <td>David Lingmerth</td>\n",
       "      <td>-0.699426</td>\n",
       "      <td>-0.414874</td>\n",
       "    </tr>\n",
       "    <tr>\n",
       "      <th>70</th>\n",
       "      <td>Ian Woosnam</td>\n",
       "      <td>-4.311756</td>\n",
       "      <td>-0.418672</td>\n",
       "    </tr>\n",
       "    <tr>\n",
       "      <th>71</th>\n",
       "      <td>Cheng Jin</td>\n",
       "      <td>-2.423709</td>\n",
       "      <td>-0.418672</td>\n",
       "    </tr>\n",
       "    <tr>\n",
       "      <th>72</th>\n",
       "      <td>Mark O'Meara</td>\n",
       "      <td>-2.544438</td>\n",
       "      <td>-0.798433</td>\n",
       "    </tr>\n",
       "    <tr>\n",
       "      <th>73</th>\n",
       "      <td>Tom Watson</td>\n",
       "      <td>-1.001248</td>\n",
       "      <td>-2.042098</td>\n",
       "    </tr>\n",
       "    <tr>\n",
       "      <th>74</th>\n",
       "      <td>Sandy Lyle</td>\n",
       "      <td>-2.604803</td>\n",
       "      <td>-3.407908</td>\n",
       "    </tr>\n",
       "    <tr>\n",
       "      <th>75</th>\n",
       "      <td>Steven Bowditch</td>\n",
       "      <td>-3.803136</td>\n",
       "      <td>-0.798566</td>\n",
       "    </tr>\n",
       "    <tr>\n",
       "      <th>76</th>\n",
       "      <td>Charl Schwartzel</td>\n",
       "      <td>-0.880519</td>\n",
       "      <td>0.586765</td>\n",
       "    </tr>\n",
       "    <tr>\n",
       "      <th>77</th>\n",
       "      <td>Byeong Hun An</td>\n",
       "      <td>-0.475298</td>\n",
       "      <td>-0.264112</td>\n",
       "    </tr>\n",
       "    <tr>\n",
       "      <th>78</th>\n",
       "      <td>Andy Sullivan</td>\n",
       "      <td>-2.363345</td>\n",
       "      <td>-0.001077</td>\n",
       "    </tr>\n",
       "    <tr>\n",
       "      <th>79</th>\n",
       "      <td>Jim Herman</td>\n",
       "      <td>-1.285740</td>\n",
       "      <td>-0.173301</td>\n",
       "    </tr>\n",
       "    <tr>\n",
       "      <th>80</th>\n",
       "      <td>Vaughn Taylor</td>\n",
       "      <td>-0.656391</td>\n",
       "      <td>0.501198</td>\n",
       "    </tr>\n",
       "    <tr>\n",
       "      <th>81</th>\n",
       "      <td>Ernie Els</td>\n",
       "      <td>-0.983918</td>\n",
       "      <td>-0.275247</td>\n",
       "    </tr>\n",
       "    <tr>\n",
       "      <th>82</th>\n",
       "      <td>Rickie Fowler</td>\n",
       "      <td>-0.983918</td>\n",
       "      <td>1.170725</td>\n",
       "    </tr>\n",
       "    <tr>\n",
       "      <th>83</th>\n",
       "      <td>Marc Leishman</td>\n",
       "      <td>-0.656391</td>\n",
       "      <td>0.693735</td>\n",
       "    </tr>\n",
       "    <tr>\n",
       "      <th>84</th>\n",
       "      <td>Phil Mickelson</td>\n",
       "      <td>-0.777120</td>\n",
       "      <td>1.075896</td>\n",
       "    </tr>\n",
       "    <tr>\n",
       "      <th>85</th>\n",
       "      <td>Darren Clarke</td>\n",
       "      <td>-3.639373</td>\n",
       "      <td>-2.053004</td>\n",
       "    </tr>\n",
       "  </tbody>\n",
       "</table>\n",
       "<p>86 rows × 3 columns</p>\n",
       "</div>"
      ],
      "text/plain": [
       "                  Golfer     Score  Pred_Score\n",
       "0          Danny Willett  4.519593    0.664726\n",
       "1           Lee Westwood  3.518143    0.318234\n",
       "2          Jordan Spieth  3.358561    2.001587\n",
       "3             Paul Casey  3.178168    0.680904\n",
       "4         Dustin Johnson  3.365135    1.502414\n",
       "5            J.B. Holmes  3.370230    0.585760\n",
       "6       Hideki Matsuyama  2.921487    0.727293\n",
       "7    Matthew Fitzpatrick  2.954040    0.094340\n",
       "8         Soren Kjeldsen  2.877187   -0.640755\n",
       "9              Jason Day  2.587812    1.371667\n",
       "10       Brandt Snedeker  2.664028    0.629263\n",
       "11           Justin Rose  2.472178    1.606962\n",
       "12          Rory McIlroy  2.740243    2.303161\n",
       "13         Daniel Berger  2.773788    0.676006\n",
       "14  Kiradech Aphibarnrat  2.160290   -0.904649\n",
       "15      Louis Oosthuizen  1.876161    0.492648\n",
       "16             Danny Lee  1.683310   -0.089704\n",
       "17        Billy Horschel  1.519910    0.264578\n",
       "18       Emiliano Grillo  1.629457    0.247323\n",
       "19  Rafael Cabrera-Bello  1.837796    0.483712\n",
       "20       Jamie Donaldson  1.514877    0.064268\n",
       "21     Bryson DeChambeau  1.492514   -0.267655\n",
       "22         Brooks Koepka  1.503695    0.911275\n",
       "23             Bill Haas  1.093805    0.517374\n",
       "24       Bernhard Langer  0.880159   -0.263214\n",
       "25        Henrik Stenson  1.163934    1.416169\n",
       "26           Matt Kuchar  1.104774    1.152546\n",
       "27         Angel Cabrera  1.044197   -0.492476\n",
       "28          Webb Simpson  0.957074   -0.140789\n",
       "29          Scott Piercy  0.802375   -0.194792\n",
       "..                   ...       ...         ...\n",
       "56      Thongchai Jaidee -3.072935   -1.049277\n",
       "57          Fabian Gomez -2.544438   -1.421538\n",
       "58          Jason Dufner -1.225376   -0.473583\n",
       "59       Trevor Immelman -0.475298   -1.515267\n",
       "60          Robert Streb -1.958124    0.027588\n",
       "61       Graeme McDowell -1.466834    0.211151\n",
       "62         Branden Grace -0.940884   -0.056990\n",
       "63            Chris Kirk -1.225376    0.013765\n",
       "64          Russell Knox -0.699426    0.350865\n",
       "65          Zach Johnson -1.121977    0.574615\n",
       "66           Vijay Singh -0.983918   -0.376055\n",
       "67             Mike Weir -1.570233   -2.579584\n",
       "68            Ryan Moore -1.673632    0.435048\n",
       "69       David Lingmerth -0.699426   -0.414874\n",
       "70           Ian Woosnam -4.311756   -0.418672\n",
       "71             Cheng Jin -2.423709   -0.418672\n",
       "72          Mark O'Meara -2.544438   -0.798433\n",
       "73            Tom Watson -1.001248   -2.042098\n",
       "74            Sandy Lyle -2.604803   -3.407908\n",
       "75       Steven Bowditch -3.803136   -0.798566\n",
       "76      Charl Schwartzel -0.880519    0.586765\n",
       "77         Byeong Hun An -0.475298   -0.264112\n",
       "78         Andy Sullivan -2.363345   -0.001077\n",
       "79            Jim Herman -1.285740   -0.173301\n",
       "80         Vaughn Taylor -0.656391    0.501198\n",
       "81             Ernie Els -0.983918   -0.275247\n",
       "82         Rickie Fowler -0.983918    1.170725\n",
       "83         Marc Leishman -0.656391    0.693735\n",
       "84        Phil Mickelson -0.777120    1.075896\n",
       "85         Darren Clarke -3.639373   -2.053004\n",
       "\n",
       "[86 rows x 3 columns]"
      ]
     },
     "execution_count": 315,
     "metadata": {},
     "output_type": "execute_result"
    }
   ],
   "source": [
    "y_pred = model.predict(X)\n",
    "y_pred\n",
    "data['Pred_Score'] = model.predict(X)\n",
    "data[['Golfer', 'Score', 'Pred_Score']]"
   ]
  },
  {
   "cell_type": "code",
   "execution_count": 316,
   "metadata": {
    "collapsed": false
   },
   "outputs": [
    {
     "data": {
      "text/plain": [
       "0.25632507291695283"
      ]
     },
     "execution_count": 316,
     "metadata": {},
     "output_type": "execute_result"
    }
   ],
   "source": [
    "model.score(X,y)"
   ]
  },
  {
   "cell_type": "code",
   "execution_count": 317,
   "metadata": {
    "collapsed": false
   },
   "outputs": [
    {
     "data": {
      "text/html": [
       "<div>\n",
       "<table border=\"1\" class=\"dataframe\">\n",
       "  <thead>\n",
       "    <tr style=\"text-align: right;\">\n",
       "      <th></th>\n",
       "      <th>int</th>\n",
       "      <th>SG_Total</th>\n",
       "      <th>Long_Course</th>\n",
       "    </tr>\n",
       "  </thead>\n",
       "  <tbody>\n",
       "    <tr>\n",
       "      <th>0</th>\n",
       "      <td>1</td>\n",
       "      <td>1.020</td>\n",
       "      <td>-0.039</td>\n",
       "    </tr>\n",
       "    <tr>\n",
       "      <th>1</th>\n",
       "      <td>1</td>\n",
       "      <td>0.605</td>\n",
       "      <td>0.039</td>\n",
       "    </tr>\n",
       "    <tr>\n",
       "      <th>2</th>\n",
       "      <td>1</td>\n",
       "      <td>1.732</td>\n",
       "      <td>0.278</td>\n",
       "    </tr>\n",
       "    <tr>\n",
       "      <th>3</th>\n",
       "      <td>1</td>\n",
       "      <td>1.036</td>\n",
       "      <td>-0.046</td>\n",
       "    </tr>\n",
       "    <tr>\n",
       "      <th>4</th>\n",
       "      <td>1</td>\n",
       "      <td>1.670</td>\n",
       "      <td>-0.153</td>\n",
       "    </tr>\n",
       "  </tbody>\n",
       "</table>\n",
       "</div>"
      ],
      "text/plain": [
       "   int  SG_Total  Long_Course\n",
       "0    1     1.020       -0.039\n",
       "1    1     0.605        0.039\n",
       "2    1     1.732        0.278\n",
       "3    1     1.036       -0.046\n",
       "4    1     1.670       -0.153"
      ]
     },
     "execution_count": 317,
     "metadata": {},
     "output_type": "execute_result"
    }
   ],
   "source": [
    "\n",
    "X = data[ ['SG_Total','Long_Course'] ].copy() \n",
    "y = data[ 'Score' ].copy()\n",
    "\n",
    "X['int'] = [1 for x in range(86)] \n",
    "X = X[ ['int','SG_Total','Long_Course' ] ]\n",
    "X.head()\n"
   ]
  },
  {
   "cell_type": "code",
   "execution_count": 318,
   "metadata": {
    "collapsed": false
   },
   "outputs": [
    {
     "data": {
      "text/plain": [
       "array([-0.36989816,  1.08057203,  1.06063812])"
      ]
     },
     "execution_count": 318,
     "metadata": {},
     "output_type": "execute_result"
    }
   ],
   "source": [
    "betas = np.dot( np.dot( np.linalg.inv(X.transpose().dot(X)),X.transpose()) , y)\n",
    "betas"
   ]
  },
  {
   "cell_type": "code",
   "execution_count": 319,
   "metadata": {
    "collapsed": true
   },
   "outputs": [],
   "source": [
    "y_pred = X.dot(betas)"
   ]
  },
  {
   "cell_type": "code",
   "execution_count": 320,
   "metadata": {
    "collapsed": false
   },
   "outputs": [
    {
     "data": {
      "text/plain": [
       "0.2684373005843288"
      ]
     },
     "execution_count": 320,
     "metadata": {},
     "output_type": "execute_result"
    }
   ],
   "source": [
    "sse = np.sum(np.power(y_pred - y,2))\n",
    "sst = np.sum(np.power(y - np.mean(y),2))\n",
    "\n",
    "\n",
    "score = 1.0 - sse/sst\n",
    "score"
   ]
  },
  {
   "cell_type": "code",
   "execution_count": 321,
   "metadata": {
    "collapsed": false
   },
   "outputs": [
    {
     "name": "stdout",
     "output_type": "stream",
     "text": [
      "Train Score: 0.214805915138\n",
      "Test Score: 0.193126021387\n"
     ]
    }
   ],
   "source": [
    "print \"Train Score:\", model.score(X_train,y_train)\n",
    "print \"Test Score:\", model.score(X_test,y_test)"
   ]
  },
  {
   "cell_type": "code",
   "execution_count": 322,
   "metadata": {
    "collapsed": false
   },
   "outputs": [],
   "source": [
    "from sklearn import linear_model"
   ]
  },
  {
   "cell_type": "code",
   "execution_count": 323,
   "metadata": {
    "collapsed": false
   },
   "outputs": [
    {
     "name": "stdout",
     "output_type": "stream",
     "text": [
      "Train Score: 0.224460714444\n",
      "Test Score: 0.33677305022\n"
     ]
    }
   ],
   "source": [
    "from sklearn.cross_validation import train_test_split\n",
    "X_train, X_test, y_train, y_test = train_test_split(X, y, train_size=.8)\n",
    "\n",
    "model = linear_model.LinearRegression(fit_intercept=True)\n",
    "model.fit(X_train,y_train)\n",
    "print \"Train Score:\", model.score(X_train,y_train)\n",
    "print \"Test Score:\", model.score(X_test,y_test)"
   ]
  },
  {
   "cell_type": "code",
   "execution_count": 324,
   "metadata": {
    "collapsed": false
   },
   "outputs": [
    {
     "name": "stdout",
     "output_type": "stream",
     "text": [
      "Avg CV Score: 0.193933773432\n"
     ]
    }
   ],
   "source": [
    "# Running once gives us a lot of variance in train/test, let's try cross validation\n",
    "from sklearn.cross_validation import cross_val_score\n",
    "from sklearn.cross_validation import KFold\n",
    "model = linear_model.LinearRegression(fit_intercept=True)\n",
    "\n",
    "# Instead of cv=5, or cv=10, I use KFold which is an explicit iterator for the data.\n",
    "# Normally cross_val_score does not shuffle by default. KFold allows shuffling of data\n",
    "cv_scores = cross_val_score(model,X,y,cv=KFold(len(X),n_folds=10,shuffle=True))\n",
    "\n",
    "print \"Avg CV Score:\", cv_scores.mean()"
   ]
  },
  {
   "cell_type": "code",
   "execution_count": null,
   "metadata": {
    "collapsed": true
   },
   "outputs": [],
   "source": []
  },
  {
   "cell_type": "code",
   "execution_count": null,
   "metadata": {
    "collapsed": true
   },
   "outputs": [],
   "source": []
  },
  {
   "cell_type": "code",
   "execution_count": null,
   "metadata": {
    "collapsed": true
   },
   "outputs": [],
   "source": []
  },
  {
   "cell_type": "code",
   "execution_count": null,
   "metadata": {
    "collapsed": true
   },
   "outputs": [],
   "source": []
  },
  {
   "cell_type": "code",
   "execution_count": null,
   "metadata": {
    "collapsed": true
   },
   "outputs": [],
   "source": []
  }
 ],
 "metadata": {
  "anaconda-cloud": {},
  "kernelspec": {
   "display_name": "Python [conda root]",
   "language": "python",
   "name": "conda-root-py"
  },
  "language_info": {
   "codemirror_mode": {
    "name": "ipython",
    "version": 2
   },
   "file_extension": ".py",
   "mimetype": "text/x-python",
   "name": "python",
   "nbconvert_exporter": "python",
   "pygments_lexer": "ipython2",
   "version": "2.7.12"
  }
 },
 "nbformat": 4,
 "nbformat_minor": 1
}
